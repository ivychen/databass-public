{
 "cells": [
  {
   "cell_type": "code",
   "execution_count": 34,
   "metadata": {},
   "outputs": [],
   "source": [
    "# Standard imports\n",
    "import time\n",
    "\n",
    "# Databass imports\n",
    "from databass import *\n",
    "\n",
    "simple_test = [\n",
    "    \"SELECT * FROM data\",\n",
    "    \"SELECT a, b FROM data\",\n",
    "    \"SELECT data.e FROM data GROUP BY data.e\",\n",
    "    \"SELECT data.a, data4.a FROM data, data4 WHERE data.a = data4.a\"\n",
    "]\n",
    "\n",
    "experiment_one = [\n",
    "    \"SELECT * from lineorder LIMIT 1\",\n",
    "    \"SELECT lo_custkey, lo_suppkey FROM lineorder, supplier WHERE lineorder.lo_suppkey = supplier.s_suppkey\",\n",
    "    \"SELECT sum(lo_extendedprice * lo_discount) AS revenue FROM lineorder, date WHERE lo_orderdate = d_datekey AND d_year = 1993 AND lo_discount BETWEEN 1 AND 3 AND lo_quantity < 25\"\n",
    "]\n",
    "\n",
    "experiment_two = [\n",
    "    \"SELECT lo_orderkey FROM lineorder LIMIT 20\",\n",
    "    \"SELECT p_category FROM part\",\n",
    "    \"SELECT c_nation FROM customer WHERE c_nation = 'UNITED STATES'\"\n",
    "]\n",
    "\n",
    "def run_query(db, qstr):\n",
    "    plan = parse(qstr)\n",
    "    plan = plan.to_plan()\n",
    "    print(\"QUERY PLAN\", plan.pretty_print())\n",
    "    return run_plan(db, plan)\n",
    "\n",
    "def run_plan(db, plan):\n",
    "    databass_rows = list()\n",
    "    plan = Optimizer(db)(plan)\n",
    "    # plan = Optimizer(db)(plan)\n",
    "    for row in plan:\n",
    "        vals = []\n",
    "        for v in row:\n",
    "            if isinstance(v, str):\n",
    "                vals.append(v)\n",
    "            else:\n",
    "                vals.append(float(v))\n",
    "        databass_rows.append(vals)\n",
    "    return databass_rows\n",
    "\n",
    "def setup_row():\n",
    "    print(\"=== ROW MODE: SETUP ===\\n\")\n",
    "    mode = Mode.ROW # either Mode.ROW or Mode.COLUMN_ALL or Mode.COLUMN_SELECT\n",
    "    print(\"[setup] db in mode...\", mode)\n",
    "    db = Database.db(mode)\n",
    "    print(\"[setup] {num} tables...OK\".format(num=len(db.tablenames)), db.tablenames)\n",
    "    print(\"[setup] ...OK\")\n",
    "\n",
    "    print(\"\\n=== ROW MODE: RUNNING QUERIES ===\\n\")\n",
    "\n",
    "    for qstr in simple_test:\n",
    "        print(\"[query]\", qstr)\n",
    "        start = time.time()\n",
    "        output = run_query(db, qstr)\n",
    "        # print(\"[output] \", output)\n",
    "        print(\"[query] took %0.5f sec\\n\" % (time.time()-start))\n",
    "\n",
    "def setup_col():\n",
    "    print(\"=== RUNNING IN COL MODE ===\\n\")\n",
    "    mode = Mode.COLUMN_ALL # either Mode.ROW or Mode.COLUMN_ALL or Mode.COLUMN_SELECT\n",
    "    print(\"[setup] db in mode...\", mode)\n",
    "    db = Database.db(mode)\n",
    "    print(\"[setup] {num} tables...OK\".format(num=len(db.tablenames)), db.tablenames)\n",
    "    print(\"[setup] ...OK\")\n",
    "    return db"
   ]
  },
  {
   "cell_type": "code",
   "execution_count": 2,
   "metadata": {},
   "outputs": [
    {
     "name": "stdout",
     "output_type": "stream",
     "text": [
      "=== RUNNING IN COL MODE ===\n",
      "\n",
      "[setup] db in mode... Mode.COLUMN_ALL\n",
      "[table] customer with schema: c_custkey:num, c_name:str, c_address:str, c_city:str, c_nation:str, c_region:str, c_phone:str, c_mktsegment:str\n",
      "[table] data with schema: a:num, b:num, c:num, d:num, e:str, f:num, g:str\n",
      "[table] data2 with schema: a:num, b:num, c:num, d:num, e:str, f:num, g:str\n",
      "[table] data3 with schema: a:num, b:num\n",
      "[table] data4 with schema: a:num, b:num, c:num, d:num, e:str, f:num, g:str\n",
      "[table] data_orig with schema: a:num, b:num, c:num, d:num\n",
      "[table] date with schema: d_datekey:num, d_date:str, d_dayofweek:str, d_month:str, d_year:num, d_yearmonthnum:num, d_yearmonth:str, d_daynuminweek:num, d_daynuminmonth:num, d_daynuminyear:num, d_monthnuminyear:num, d_weeknuminyear:num, d_sellingseason:str, d_lastdayinweekfl:num, d_lastdayinmonthfl:num, d_holidayfl:num, d_weekdayfl:num\n",
      "[table] lineorder with schema: lo_orderkey:num, lo_linenumber:num, lo_custkey:num, lo_partkey:num, lo_suppkey:num, lo_orderdate:num, lo_orderpriority:str, lo_shippriority:num, lo_quantity:num, lo_extendedprice:num, lo_ordtotalprice:num, lo_discount:num, lo_revenue:num, lo_supplycost:num, lo_tax:num, lo_commitdate:num, lo_shipmode:str\n",
      "[table] part with schema: p_partkey:num, p_name:str, p_mfgr:str, p_category:str, p_brand:str, p_color:str, p_type:str, p_size:num, p_container:str\n",
      "[table] supplier with schema: s_suppkey:num, s_name:str, s_address:str, s_city:str, s_nation:str, s_region:str, s_phone:str\n",
      "[setup] 10 tables...OK ['customer', 'data', 'data2', 'data3', 'data4', 'data_orig', 'date', 'lineorder', 'part', 'supplier']\n",
      "[setup] ...OK\n"
     ]
    }
   ],
   "source": [
    "db = setup_col()"
   ]
  },
  {
   "cell_type": "code",
   "execution_count": 35,
   "metadata": {},
   "outputs": [],
   "source": [
    "def run_exp(db, queries):\n",
    "    print(\"\\n=== RUNNING QUERIES ===\\n\")\n",
    "\n",
    "    for qstr in queries:\n",
    "        print(\"[query] \", qstr)\n",
    "        start = time.time()\n",
    "        output = run_query(db, qstr)\n",
    "        print(\"[query] took %0.5f sec\\n\" % (time.time()-start))\n",
    "        print(\"[output] \", output)\n",
    "    \n",
    "    print(\"\\n=== DONE WITH ALL QUERIES ===\\n\")"
   ]
  },
  {
   "cell_type": "code",
   "execution_count": 37,
   "metadata": {},
   "outputs": [
    {
     "name": "stdout",
     "output_type": "stream",
     "text": [
      "\n",
      "=== RUNNING QUERIES ===\n",
      "\n",
      "[query]  SELECT data.a, data4.a FROM data, data4 WHERE data.a = data4.a\n",
      "QUERY PLAN \n",
      "Project(data.a:num AS a, data4.a:num AS a)\n",
      "  From(data.a:num == data4.a:num)\n",
      "    Scan(data AS data)\n",
      "    Scan(data4 AS data4)\n",
      "scan schema data.a:num, data.b:num, data.c:num, data.d:num, data.e:str, data.f:num, data.g:str\n",
      "Scan(data AS data)\n",
      "scan schema data4.a:num, data4.b:num, data4.c:num, data4.d:num, data4.e:str, data4.f:num, data4.g:str\n",
      "Scan(data4 AS data4)\n",
      "From()\n",
      "Project(data.a:num AS a, data4.a:num AS a)\n"
     ]
    },
    {
     "ename": "TypeError",
     "evalue": "'module' object is not subscriptable",
     "output_type": "error",
     "traceback": [
      "\u001b[1;31m---------------------------------------------------------------------------\u001b[0m",
      "\u001b[1;31mTypeError\u001b[0m                                 Traceback (most recent call last)",
      "\u001b[1;32m<ipython-input-37-e8d74ba4fd61>\u001b[0m in \u001b[0;36m<module>\u001b[1;34m\u001b[0m\n\u001b[1;32m----> 1\u001b[1;33m \u001b[0mrun_exp\u001b[0m\u001b[1;33m(\u001b[0m\u001b[0mdb\u001b[0m\u001b[1;33m,\u001b[0m \u001b[0msimple_test\u001b[0m\u001b[1;33m[\u001b[0m\u001b[1;36m3\u001b[0m\u001b[1;33m:\u001b[0m\u001b[1;36m4\u001b[0m\u001b[1;33m]\u001b[0m\u001b[1;33m)\u001b[0m\u001b[1;33m\u001b[0m\u001b[1;33m\u001b[0m\u001b[0m\n\u001b[0m",
      "\u001b[1;32m<ipython-input-35-e8ceeed069ac>\u001b[0m in \u001b[0;36mrun_exp\u001b[1;34m(db, queries)\u001b[0m\n\u001b[0;32m      5\u001b[0m         \u001b[0mprint\u001b[0m\u001b[1;33m(\u001b[0m\u001b[1;34m\"[query] \"\u001b[0m\u001b[1;33m,\u001b[0m \u001b[0mqstr\u001b[0m\u001b[1;33m)\u001b[0m\u001b[1;33m\u001b[0m\u001b[1;33m\u001b[0m\u001b[0m\n\u001b[0;32m      6\u001b[0m         \u001b[0mstart\u001b[0m \u001b[1;33m=\u001b[0m \u001b[0mtime\u001b[0m\u001b[1;33m.\u001b[0m\u001b[0mtime\u001b[0m\u001b[1;33m(\u001b[0m\u001b[1;33m)\u001b[0m\u001b[1;33m\u001b[0m\u001b[1;33m\u001b[0m\u001b[0m\n\u001b[1;32m----> 7\u001b[1;33m         \u001b[0moutput\u001b[0m \u001b[1;33m=\u001b[0m \u001b[0mrun_query\u001b[0m\u001b[1;33m(\u001b[0m\u001b[0mdb\u001b[0m\u001b[1;33m,\u001b[0m \u001b[0mqstr\u001b[0m\u001b[1;33m)\u001b[0m\u001b[1;33m\u001b[0m\u001b[1;33m\u001b[0m\u001b[0m\n\u001b[0m\u001b[0;32m      8\u001b[0m         \u001b[0mprint\u001b[0m\u001b[1;33m(\u001b[0m\u001b[1;34m\"[query] took %0.5f sec\\n\"\u001b[0m \u001b[1;33m%\u001b[0m \u001b[1;33m(\u001b[0m\u001b[0mtime\u001b[0m\u001b[1;33m.\u001b[0m\u001b[0mtime\u001b[0m\u001b[1;33m(\u001b[0m\u001b[1;33m)\u001b[0m\u001b[1;33m-\u001b[0m\u001b[0mstart\u001b[0m\u001b[1;33m)\u001b[0m\u001b[1;33m)\u001b[0m\u001b[1;33m\u001b[0m\u001b[1;33m\u001b[0m\u001b[0m\n\u001b[0;32m      9\u001b[0m         \u001b[0mprint\u001b[0m\u001b[1;33m(\u001b[0m\u001b[1;34m\"[output] \"\u001b[0m\u001b[1;33m,\u001b[0m \u001b[0moutput\u001b[0m\u001b[1;33m)\u001b[0m\u001b[1;33m\u001b[0m\u001b[1;33m\u001b[0m\u001b[0m\n",
      "\u001b[1;32m<ipython-input-34-8aa372d64de2>\u001b[0m in \u001b[0;36mrun_query\u001b[1;34m(db, qstr)\u001b[0m\n\u001b[0;32m     28\u001b[0m     \u001b[0mplan\u001b[0m \u001b[1;33m=\u001b[0m \u001b[0mplan\u001b[0m\u001b[1;33m.\u001b[0m\u001b[0mto_plan\u001b[0m\u001b[1;33m(\u001b[0m\u001b[1;33m)\u001b[0m\u001b[1;33m\u001b[0m\u001b[1;33m\u001b[0m\u001b[0m\n\u001b[0;32m     29\u001b[0m     \u001b[0mprint\u001b[0m\u001b[1;33m(\u001b[0m\u001b[1;34m\"QUERY PLAN\"\u001b[0m\u001b[1;33m,\u001b[0m \u001b[0mplan\u001b[0m\u001b[1;33m.\u001b[0m\u001b[0mpretty_print\u001b[0m\u001b[1;33m(\u001b[0m\u001b[1;33m)\u001b[0m\u001b[1;33m)\u001b[0m\u001b[1;33m\u001b[0m\u001b[1;33m\u001b[0m\u001b[0m\n\u001b[1;32m---> 30\u001b[1;33m     \u001b[1;32mreturn\u001b[0m \u001b[0mrun_plan\u001b[0m\u001b[1;33m(\u001b[0m\u001b[0mdb\u001b[0m\u001b[1;33m,\u001b[0m \u001b[0mplan\u001b[0m\u001b[1;33m)\u001b[0m\u001b[1;33m\u001b[0m\u001b[1;33m\u001b[0m\u001b[0m\n\u001b[0m\u001b[0;32m     31\u001b[0m \u001b[1;33m\u001b[0m\u001b[0m\n\u001b[0;32m     32\u001b[0m \u001b[1;32mdef\u001b[0m \u001b[0mrun_plan\u001b[0m\u001b[1;33m(\u001b[0m\u001b[0mdb\u001b[0m\u001b[1;33m,\u001b[0m \u001b[0mplan\u001b[0m\u001b[1;33m)\u001b[0m\u001b[1;33m:\u001b[0m\u001b[1;33m\u001b[0m\u001b[1;33m\u001b[0m\u001b[0m\n",
      "\u001b[1;32m<ipython-input-34-8aa372d64de2>\u001b[0m in \u001b[0;36mrun_plan\u001b[1;34m(db, plan)\u001b[0m\n\u001b[0;32m     32\u001b[0m \u001b[1;32mdef\u001b[0m \u001b[0mrun_plan\u001b[0m\u001b[1;33m(\u001b[0m\u001b[0mdb\u001b[0m\u001b[1;33m,\u001b[0m \u001b[0mplan\u001b[0m\u001b[1;33m)\u001b[0m\u001b[1;33m:\u001b[0m\u001b[1;33m\u001b[0m\u001b[1;33m\u001b[0m\u001b[0m\n\u001b[0;32m     33\u001b[0m     \u001b[0mdatabass_rows\u001b[0m \u001b[1;33m=\u001b[0m \u001b[0mlist\u001b[0m\u001b[1;33m(\u001b[0m\u001b[1;33m)\u001b[0m\u001b[1;33m\u001b[0m\u001b[1;33m\u001b[0m\u001b[0m\n\u001b[1;32m---> 34\u001b[1;33m     \u001b[0mplan\u001b[0m \u001b[1;33m=\u001b[0m \u001b[0mOptimizer\u001b[0m\u001b[1;33m(\u001b[0m\u001b[0mdb\u001b[0m\u001b[1;33m)\u001b[0m\u001b[1;33m(\u001b[0m\u001b[0mplan\u001b[0m\u001b[1;33m)\u001b[0m\u001b[1;33m\u001b[0m\u001b[1;33m\u001b[0m\u001b[0m\n\u001b[0m\u001b[0;32m     35\u001b[0m     \u001b[1;31m# plan = Optimizer(db)(plan)\u001b[0m\u001b[1;33m\u001b[0m\u001b[1;33m\u001b[0m\u001b[1;33m\u001b[0m\u001b[0m\n\u001b[0;32m     36\u001b[0m     \u001b[1;32mfor\u001b[0m \u001b[0mrow\u001b[0m \u001b[1;32min\u001b[0m \u001b[0mplan\u001b[0m\u001b[1;33m:\u001b[0m\u001b[1;33m\u001b[0m\u001b[1;33m\u001b[0m\u001b[0m\n",
      "\u001b[1;32m~\\Documents\\GitHub\\databass-public\\databass\\optimizer\\optimizer.py\u001b[0m in \u001b[0;36m__call__\u001b[1;34m(self, op)\u001b[0m\n\u001b[0;32m     33\u001b[0m     \u001b[1;31m# Apply join Optimization to each From operator, bottom up\u001b[0m\u001b[1;33m\u001b[0m\u001b[1;33m\u001b[0m\u001b[1;33m\u001b[0m\u001b[0m\n\u001b[0;32m     34\u001b[0m     \u001b[1;32mwhile\u001b[0m \u001b[0mop\u001b[0m\u001b[1;33m.\u001b[0m\u001b[0mcollectone\u001b[0m\u001b[1;33m(\u001b[0m\u001b[1;34m\"From\"\u001b[0m\u001b[1;33m)\u001b[0m\u001b[1;33m:\u001b[0m\u001b[1;33m\u001b[0m\u001b[1;33m\u001b[0m\u001b[0m\n\u001b[1;32m---> 35\u001b[1;33m       \u001b[0mop\u001b[0m \u001b[1;33m=\u001b[0m \u001b[0mself\u001b[0m\u001b[1;33m.\u001b[0m\u001b[0mexpand_from_clause\u001b[0m\u001b[1;33m(\u001b[0m\u001b[0mop\u001b[0m\u001b[1;33m)\u001b[0m\u001b[1;33m\u001b[0m\u001b[1;33m\u001b[0m\u001b[0m\n\u001b[0m\u001b[0;32m     36\u001b[0m \u001b[1;33m\u001b[0m\u001b[0m\n\u001b[0;32m     37\u001b[0m     \u001b[1;31m# Join may have added new nodes, need to update\u001b[0m\u001b[1;33m\u001b[0m\u001b[1;33m\u001b[0m\u001b[1;33m\u001b[0m\u001b[0m\n",
      "\u001b[1;32m~\\Documents\\GitHub\\databass-public\\databass\\optimizer\\optimizer.py\u001b[0m in \u001b[0;36mexpand_from_clause\u001b[1;34m(self, op)\u001b[0m\n\u001b[0;32m    144\u001b[0m     \u001b[1;32mif\u001b[0m \u001b[1;32mnot\u001b[0m \u001b[0msources\u001b[0m\u001b[1;33m:\u001b[0m\u001b[1;33m\u001b[0m\u001b[1;33m\u001b[0m\u001b[0m\n\u001b[0;32m    145\u001b[0m       \u001b[0mfromop\u001b[0m\u001b[1;33m.\u001b[0m\u001b[0mreplace\u001b[0m\u001b[1;33m(\u001b[0m\u001b[0mDummyScan\u001b[0m\u001b[1;33m(\u001b[0m\u001b[1;33m)\u001b[0m\u001b[1;33m)\u001b[0m\u001b[1;33m\u001b[0m\u001b[1;33m\u001b[0m\u001b[0m\n\u001b[1;32m--> 146\u001b[1;33m       \u001b[1;32mreturn\u001b[0m \u001b[0mop\u001b[0m\u001b[1;33m\u001b[0m\u001b[1;33m\u001b[0m\u001b[0m\n\u001b[0m\u001b[0;32m    147\u001b[0m \u001b[1;33m\u001b[0m\u001b[0m\n\u001b[0;32m    148\u001b[0m     \u001b[0mjoin_tree\u001b[0m \u001b[1;33m=\u001b[0m \u001b[0mself\u001b[0m\u001b[1;33m.\u001b[0m\u001b[0mjoin_optimizer\u001b[0m\u001b[1;33m(\u001b[0m\u001b[0mpreds\u001b[0m\u001b[1;33m,\u001b[0m \u001b[0msources\u001b[0m\u001b[1;33m)\u001b[0m\u001b[1;33m\u001b[0m\u001b[1;33m\u001b[0m\u001b[0m\n",
      "\u001b[1;32m~\\Documents\\GitHub\\databass-public\\databass\\optimizer\\joinopt.py\u001b[0m in \u001b[0;36m__call__\u001b[1;34m(self, preds, sources)\u001b[0m\n\u001b[0;32m    215\u001b[0m       \u001b[0mjis\u001b[0m\u001b[1;33m.\u001b[0m\u001b[0mappend\u001b[0m\u001b[1;33m(\u001b[0m\u001b[0mji\u001b[0m\u001b[1;33m)\u001b[0m\u001b[1;33m\u001b[0m\u001b[1;33m\u001b[0m\u001b[0m\n\u001b[0;32m    216\u001b[0m \u001b[1;33m\u001b[0m\u001b[0m\n\u001b[1;32m--> 217\u001b[1;33m     \u001b[0mji\u001b[0m \u001b[1;33m=\u001b[0m \u001b[0mself\u001b[0m\u001b[1;33m.\u001b[0m\u001b[0mbest_plan_exhaustive\u001b[0m\u001b[1;33m(\u001b[0m\u001b[0mjis\u001b[0m\u001b[1;33m)\u001b[0m\u001b[1;33m\u001b[0m\u001b[1;33m\u001b[0m\u001b[0m\n\u001b[0m\u001b[0;32m    218\u001b[0m     \u001b[0mself\u001b[0m\u001b[1;33m.\u001b[0m\u001b[0mfix_parent_pointers\u001b[0m\u001b[1;33m(\u001b[0m\u001b[0mji\u001b[0m\u001b[1;33m.\u001b[0m\u001b[0mbest_plan\u001b[0m\u001b[1;33m)\u001b[0m\u001b[1;33m\u001b[0m\u001b[1;33m\u001b[0m\u001b[0m\n\u001b[0;32m    219\u001b[0m     \u001b[1;32mreturn\u001b[0m \u001b[0mji\u001b[0m\u001b[1;33m.\u001b[0m\u001b[0mbest_plan\u001b[0m\u001b[1;33m\u001b[0m\u001b[1;33m\u001b[0m\u001b[0m\n",
      "\u001b[1;32m~\\Documents\\GitHub\\databass-public\\databass\\optimizer\\joinopt.py\u001b[0m in \u001b[0;36mbest_plan_exhaustive\u001b[1;34m(self, jis)\u001b[0m\n\u001b[0;32m    240\u001b[0m       \u001b[0mplans\u001b[0m \u001b[1;33m=\u001b[0m \u001b[0mself\u001b[0m\u001b[1;33m.\u001b[0m\u001b[0mvalid_join_impls\u001b[0m\u001b[1;33m(\u001b[0m\u001b[0mji2\u001b[0m\u001b[1;33m,\u001b[0m \u001b[0mji1\u001b[0m\u001b[1;33m)\u001b[0m\u001b[1;33m\u001b[0m\u001b[1;33m\u001b[0m\u001b[0m\n\u001b[0;32m    241\u001b[0m       \u001b[1;32mfor\u001b[0m \u001b[0mplan\u001b[0m \u001b[1;32min\u001b[0m \u001b[0mplans\u001b[0m\u001b[1;33m:\u001b[0m\u001b[1;33m\u001b[0m\u001b[1;33m\u001b[0m\u001b[0m\n\u001b[1;32m--> 242\u001b[1;33m         \u001b[0mcost\u001b[0m \u001b[1;33m=\u001b[0m \u001b[0mself\u001b[0m\u001b[1;33m.\u001b[0m\u001b[0mcost\u001b[0m\u001b[1;33m(\u001b[0m\u001b[0mplan\u001b[0m\u001b[1;33m)\u001b[0m\u001b[1;33m\u001b[0m\u001b[1;33m\u001b[0m\u001b[0m\n\u001b[0m\u001b[0;32m    243\u001b[0m \u001b[1;33m\u001b[0m\u001b[0m\n\u001b[0;32m    244\u001b[0m         \u001b[1;32mif\u001b[0m \u001b[0mcost\u001b[0m \u001b[1;33m<\u001b[0m \u001b[0mbest_ji\u001b[0m\u001b[1;33m.\u001b[0m\u001b[0mbest_cost\u001b[0m\u001b[1;33m:\u001b[0m\u001b[1;33m\u001b[0m\u001b[1;33m\u001b[0m\u001b[0m\n",
      "\u001b[1;32m~\\Documents\\GitHub\\databass-public\\databass\\optimizer\\joinopt.py\u001b[0m in \u001b[0;36mcost\u001b[1;34m(self, plan)\u001b[0m\n\u001b[0;32m     84\u001b[0m     \"\"\"\n\u001b[0;32m     85\u001b[0m     \u001b[0mself\u001b[0m\u001b[1;33m.\u001b[0m\u001b[0mplans_tested\u001b[0m \u001b[1;33m+=\u001b[0m \u001b[1;36m1\u001b[0m\u001b[1;33m\u001b[0m\u001b[1;33m\u001b[0m\u001b[0m\n\u001b[1;32m---> 86\u001b[1;33m     \u001b[1;32mreturn\u001b[0m \u001b[0mself\u001b[0m\u001b[1;33m.\u001b[0m\u001b[0mestimator\u001b[0m\u001b[1;33m.\u001b[0m\u001b[0mcost\u001b[0m\u001b[1;33m(\u001b[0m\u001b[0mplan\u001b[0m\u001b[1;33m)\u001b[0m\u001b[1;33m\u001b[0m\u001b[1;33m\u001b[0m\u001b[0m\n\u001b[0m\u001b[0;32m     87\u001b[0m \u001b[1;33m\u001b[0m\u001b[0m\n\u001b[0;32m     88\u001b[0m   \u001b[1;32mdef\u001b[0m \u001b[0mfix_parent_pointers\u001b[0m\u001b[1;33m(\u001b[0m\u001b[0mself\u001b[0m\u001b[1;33m,\u001b[0m \u001b[0mplan\u001b[0m\u001b[1;33m)\u001b[0m\u001b[1;33m:\u001b[0m\u001b[1;33m\u001b[0m\u001b[1;33m\u001b[0m\u001b[0m\n",
      "\u001b[1;32m~\\Documents\\GitHub\\databass-public\\databass\\optimizer\\estimation.py\u001b[0m in \u001b[0;36mcost\u001b[1;34m(self, op)\u001b[0m\n\u001b[0;32m     30\u001b[0m       \u001b[0mcost\u001b[0m \u001b[1;33m+=\u001b[0m \u001b[1;36m0.05\u001b[0m \u001b[1;33m*\u001b[0m \u001b[0mself\u001b[0m\u001b[1;33m.\u001b[0m\u001b[0mcard\u001b[0m\u001b[1;33m(\u001b[0m\u001b[0mop\u001b[0m\u001b[1;33m)\u001b[0m\u001b[1;33m\u001b[0m\u001b[1;33m\u001b[0m\u001b[0m\n\u001b[0;32m     31\u001b[0m     \u001b[1;32melif\u001b[0m \u001b[0mop\u001b[0m\u001b[1;33m.\u001b[0m\u001b[0mis_type\u001b[0m\u001b[1;33m(\u001b[0m\u001b[0mThetaJoin\u001b[0m\u001b[1;33m)\u001b[0m\u001b[1;33m:\u001b[0m\u001b[1;33m\u001b[0m\u001b[1;33m\u001b[0m\u001b[0m\n\u001b[1;32m---> 32\u001b[1;33m       \u001b[0mcost\u001b[0m \u001b[1;33m=\u001b[0m \u001b[0mself\u001b[0m\u001b[1;33m.\u001b[0m\u001b[0mcost\u001b[0m\u001b[1;33m(\u001b[0m\u001b[0mop\u001b[0m\u001b[1;33m.\u001b[0m\u001b[0ml\u001b[0m\u001b[1;33m)\u001b[0m \u001b[1;33m+\u001b[0m \u001b[0mself\u001b[0m\u001b[1;33m.\u001b[0m\u001b[0mcard\u001b[0m\u001b[1;33m(\u001b[0m\u001b[0mop\u001b[0m\u001b[1;33m.\u001b[0m\u001b[0ml\u001b[0m\u001b[1;33m)\u001b[0m \u001b[1;33m*\u001b[0m \u001b[0mself\u001b[0m\u001b[1;33m.\u001b[0m\u001b[0mcost\u001b[0m\u001b[1;33m(\u001b[0m\u001b[0mop\u001b[0m\u001b[1;33m.\u001b[0m\u001b[0mr\u001b[0m\u001b[1;33m)\u001b[0m\u001b[1;33m\u001b[0m\u001b[1;33m\u001b[0m\u001b[0m\n\u001b[0m\u001b[0;32m     33\u001b[0m       \u001b[0mcost\u001b[0m \u001b[1;33m+=\u001b[0m \u001b[1;36m0.05\u001b[0m \u001b[1;33m*\u001b[0m \u001b[0mself\u001b[0m\u001b[1;33m.\u001b[0m\u001b[0mcard\u001b[0m\u001b[1;33m(\u001b[0m\u001b[0mop\u001b[0m\u001b[1;33m)\u001b[0m\u001b[1;33m\u001b[0m\u001b[1;33m\u001b[0m\u001b[0m\n\u001b[0;32m     34\u001b[0m     \u001b[1;32melse\u001b[0m\u001b[1;33m:\u001b[0m\u001b[1;33m\u001b[0m\u001b[1;33m\u001b[0m\u001b[0m\n",
      "\u001b[1;32m~\\Documents\\GitHub\\databass-public\\databass\\optimizer\\estimation.py\u001b[0m in \u001b[0;36mcost\u001b[1;34m(self, op)\u001b[0m\n\u001b[0;32m     25\u001b[0m \u001b[1;33m\u001b[0m\u001b[0m\n\u001b[0;32m     26\u001b[0m     \u001b[1;32mif\u001b[0m \u001b[0mop\u001b[0m\u001b[1;33m.\u001b[0m\u001b[0mis_type\u001b[0m\u001b[1;33m(\u001b[0m\u001b[0mScan\u001b[0m\u001b[1;33m)\u001b[0m \u001b[1;32mor\u001b[0m \u001b[0mop\u001b[0m\u001b[1;33m.\u001b[0m\u001b[0mis_type\u001b[0m\u001b[1;33m(\u001b[0m\u001b[0mScanWithProject\u001b[0m\u001b[1;33m)\u001b[0m\u001b[1;33m:\u001b[0m\u001b[1;33m\u001b[0m\u001b[1;33m\u001b[0m\u001b[0m\n\u001b[1;32m---> 27\u001b[1;33m       \u001b[0mcost\u001b[0m \u001b[1;33m=\u001b[0m \u001b[0mself\u001b[0m\u001b[1;33m.\u001b[0m\u001b[0mdb\u001b[0m\u001b[1;33m[\u001b[0m\u001b[0mop\u001b[0m\u001b[1;33m.\u001b[0m\u001b[0mtablename\u001b[0m\u001b[1;33m]\u001b[0m\u001b[1;33m.\u001b[0m\u001b[0mstats\u001b[0m\u001b[1;33m.\u001b[0m\u001b[0mcard\u001b[0m\u001b[1;33m\u001b[0m\u001b[1;33m\u001b[0m\u001b[0m\n\u001b[0m\u001b[0;32m     28\u001b[0m     \u001b[1;32melif\u001b[0m \u001b[0mop\u001b[0m\u001b[1;33m.\u001b[0m\u001b[0mis_type\u001b[0m\u001b[1;33m(\u001b[0m\u001b[0mHashJoin\u001b[0m\u001b[1;33m)\u001b[0m\u001b[1;33m:\u001b[0m\u001b[1;33m\u001b[0m\u001b[1;33m\u001b[0m\u001b[0m\n\u001b[0;32m     29\u001b[0m       \u001b[0mcost\u001b[0m \u001b[1;33m=\u001b[0m \u001b[0mself\u001b[0m\u001b[1;33m.\u001b[0m\u001b[0mcost\u001b[0m\u001b[1;33m(\u001b[0m\u001b[0mop\u001b[0m\u001b[1;33m.\u001b[0m\u001b[0ml\u001b[0m\u001b[1;33m)\u001b[0m \u001b[1;33m+\u001b[0m \u001b[0mself\u001b[0m\u001b[1;33m.\u001b[0m\u001b[0mcost\u001b[0m\u001b[1;33m(\u001b[0m\u001b[0mop\u001b[0m\u001b[1;33m.\u001b[0m\u001b[0mr\u001b[0m\u001b[1;33m)\u001b[0m\u001b[1;33m\u001b[0m\u001b[1;33m\u001b[0m\u001b[0m\n",
      "\u001b[1;31mTypeError\u001b[0m: 'module' object is not subscriptable"
     ]
    }
   ],
   "source": [
    "run_exp(db, simple_test[3:4])"
   ]
  },
  {
   "cell_type": "code",
   "execution_count": null,
   "metadata": {},
   "outputs": [],
   "source": []
  }
 ],
 "metadata": {
  "kernelspec": {
   "display_name": "Python 3",
   "language": "python",
   "name": "python3"
  },
  "language_info": {
   "codemirror_mode": {
    "name": "ipython",
    "version": 3
   },
   "file_extension": ".py",
   "mimetype": "text/x-python",
   "name": "python",
   "nbconvert_exporter": "python",
   "pygments_lexer": "ipython3",
   "version": "3.8.5"
  }
 },
 "nbformat": 4,
 "nbformat_minor": 4
}
