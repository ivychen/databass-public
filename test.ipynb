{
 "cells": [
  {
   "cell_type": "code",
   "execution_count": 34,
   "metadata": {},
   "outputs": [],
   "source": [
    "# Standard imports\n",
    "import time\n",
    "\n",
    "# Databass imports\n",
    "from databass import *\n",
    "\n",
    "simple_test = [\n",
    "    \"SELECT * FROM data\",\n",
    "    \"SELECT a, b FROM data\",\n",
    "    \"SELECT data.e FROM data GROUP BY data.e\",\n",
    "    \"SELECT data.a, data4.a FROM data, data4 WHERE data.a = data4.a\"\n",
    "]\n",
    "\n",
    "experiment_one = [\n",
    "    \"SELECT * from lineorder LIMIT 1\",\n",
    "    \"SELECT lo_custkey, lo_suppkey FROM lineorder, supplier WHERE lineorder.lo_suppkey = supplier.s_suppkey\",\n",
    "    \"SELECT sum(lo_extendedprice * lo_discount) AS revenue FROM lineorder, date WHERE lo_orderdate = d_datekey AND d_year = 1993 AND lo_discount BETWEEN 1 AND 3 AND lo_quantity < 25\"\n",
    "]\n",
    "\n",
    "experiment_two = [\n",
    "    \"SELECT lo_orderkey FROM lineorder LIMIT 20\",\n",
    "    \"SELECT p_category FROM part\",\n",
    "    \"SELECT c_nation FROM customer WHERE c_nation = 'UNITED STATES'\"\n",
    "]\n",
    "\n",
    "def run_query(db, qstr):\n",
    "    plan = parse(qstr)\n",
    "    plan = plan.to_plan()\n",
    "    print(\"QUERY PLAN\", plan.pretty_print())\n",
    "    return run_plan(db, plan)\n",
    "\n",
    "def run_plan(db, plan):\n",
    "    databass_rows = list()\n",
    "    plan = Optimizer(db)(plan)\n",
    "    # plan = Optimizer(db)(plan)\n",
    "    for row in plan:\n",
    "        vals = []\n",
    "        for v in row:\n",
    "            if isinstance(v, str):\n",
    "                vals.append(v)\n",
    "            else:\n",
    "                vals.append(float(v))\n",
    "        databass_rows.append(vals)\n",
    "    return databass_rows\n",
    "\n",
    "def setup_row():\n",
    "    print(\"=== ROW MODE: SETUP ===\\n\")\n",
    "    mode = Mode.ROW # either Mode.ROW or Mode.COLUMN_ALL or Mode.COLUMN_SELECT\n",
    "    print(\"[setup] db in mode...\", mode)\n",
    "    db = Database.db(mode)\n",
    "    print(\"[setup] {num} tables...OK\".format(num=len(db.tablenames)), db.tablenames)\n",
    "    print(\"[setup] ...OK\")\n",
    "\n",
    "    print(\"\\n=== ROW MODE: RUNNING QUERIES ===\\n\")\n",
    "\n",
    "    for qstr in simple_test:\n",
    "        print(\"[query]\", qstr)\n",
    "        start = time.time()\n",
    "        output = run_query(db, qstr)\n",
    "        # print(\"[output] \", output)\n",
    "        print(\"[query] took %0.5f sec\\n\" % (time.time()-start))\n",
    "\n",
    "def setup_col():\n",
    "    print(\"=== RUNNING IN COL MODE ===\\n\")\n",
    "    mode = Mode.COLUMN_ALL # either Mode.ROW or Mode.COLUMN_ALL or Mode.COLUMN_SELECT\n",
    "    print(\"[setup] db in mode...\", mode)\n",
    "    db = Database.db(mode)\n",
    "    print(\"[setup] {num} tables...OK\".format(num=len(db.tablenames)), db.tablenames)\n",
    "    print(\"[setup] ...OK\")\n",
    "    return db"
   ]
  },
  {
   "cell_type": "code",
   "execution_count": 2,
   "metadata": {},
   "outputs": [
    {
     "name": "stdout",
     "output_type": "stream",
     "text": [
      "=== RUNNING IN COL MODE ===\n",
      "\n",
      "[setup] db in mode... Mode.COLUMN_ALL\n",
      "[table] customer with schema: c_custkey:num, c_name:str, c_address:str, c_city:str, c_nation:str, c_region:str, c_phone:str, c_mktsegment:str\n",
      "[table] data with schema: a:num, b:num, c:num, d:num, e:str, f:num, g:str\n",
      "[table] data2 with schema: a:num, b:num, c:num, d:num, e:str, f:num, g:str\n",
      "[table] data3 with schema: a:num, b:num\n",
      "[table] data4 with schema: a:num, b:num, c:num, d:num, e:str, f:num, g:str\n",
      "[table] data_orig with schema: a:num, b:num, c:num, d:num\n",
      "[table] date with schema: d_datekey:num, d_date:str, d_dayofweek:str, d_month:str, d_year:num, d_yearmonthnum:num, d_yearmonth:str, d_daynuminweek:num, d_daynuminmonth:num, d_daynuminyear:num, d_monthnuminyear:num, d_weeknuminyear:num, d_sellingseason:str, d_lastdayinweekfl:num, d_lastdayinmonthfl:num, d_holidayfl:num, d_weekdayfl:num\n",
      "[table] lineorder with schema: lo_orderkey:num, lo_linenumber:num, lo_custkey:num, lo_partkey:num, lo_suppkey:num, lo_orderdate:num, lo_orderpriority:str, lo_shippriority:num, lo_quantity:num, lo_extendedprice:num, lo_ordtotalprice:num, lo_discount:num, lo_revenue:num, lo_supplycost:num, lo_tax:num, lo_commitdate:num, lo_shipmode:str\n",
      "[table] part with schema: p_partkey:num, p_name:str, p_mfgr:str, p_category:str, p_brand:str, p_color:str, p_type:str, p_size:num, p_container:str\n",
      "[table] supplier with schema: s_suppkey:num, s_name:str, s_address:str, s_city:str, s_nation:str, s_region:str, s_phone:str\n",
      "[setup] 10 tables...OK ['customer', 'data', 'data2', 'data3', 'data4', 'data_orig', 'date', 'lineorder', 'part', 'supplier']\n",
      "[setup] ...OK\n"
     ]
    }
   ],
   "source": [
    "db = setup_col()"
   ]
  },
  {
   "cell_type": "code",
   "execution_count": 35,
   "metadata": {},
   "outputs": [],
   "source": [
    "def run_exp(db, queries):\n",
    "    print(\"\\n=== RUNNING QUERIES ===\\n\")\n",
    "\n",
    "    for qstr in queries:\n",
    "        print(\"[query] \", qstr)\n",
    "        start = time.time()\n",
    "        output = run_query(db, qstr)\n",
    "        print(\"[query] took %0.5f sec\\n\" % (time.time()-start))\n",
    "        print(\"[output] \", output)\n",
    "    \n",
    "    print(\"\\n=== DONE WITH ALL QUERIES ===\\n\")"
   ]
  },
  {
   "cell_type": "code",
   "execution_count": 36,
   "metadata": {},
   "outputs": [
    {
     "name": "stdout",
     "output_type": "stream",
     "text": [
      "\n",
      "=== RUNNING QUERIES ===\n",
      "\n",
      "[query]  SELECT lo_orderkey FROM lineorder LIMIT 20\n",
      "QUERY PLAN \n",
      "Project(lineorder.lo_orderkey:num AS lo_orderkey)\n",
      "  LIMIT(20.0 OFFSET 0)\n",
      "    From()\n",
      "      Scan(lineorder AS lineorder)\n",
      "scan schema lineorder.lo_orderkey:num, lineorder.lo_linenumber:num, lineorder.lo_custkey:num, lineorder.lo_partkey:num, lineorder.lo_suppkey:num, lineorder.lo_orderdate:num, lineorder.lo_orderpriority:str, lineorder.lo_shippriority:num, lineorder.lo_quantity:num, lineorder.lo_extendedprice:num, lineorder.lo_ordtotalprice:num, lineorder.lo_discount:num, lineorder.lo_revenue:num, lineorder.lo_supplycost:num, lineorder.lo_tax:num, lineorder.lo_commitdate:num, lineorder.lo_shipmode:str\n",
      "Scan(lineorder AS lineorder)\n",
      "From()\n",
      "LIMIT(20.0 OFFSET 0)\n",
      "Project(lineorder.lo_orderkey:num AS lo_orderkey)\n",
      "scan schema lineorder.lo_orderkey:num, lineorder.lo_linenumber:num, lineorder.lo_custkey:num, lineorder.lo_partkey:num, lineorder.lo_suppkey:num, lineorder.lo_orderdate:num, lineorder.lo_orderpriority:str, lineorder.lo_shippriority:num, lineorder.lo_quantity:num, lineorder.lo_extendedprice:num, lineorder.lo_ordtotalprice:num, lineorder.lo_discount:num, lineorder.lo_revenue:num, lineorder.lo_supplycost:num, lineorder.lo_tax:num, lineorder.lo_commitdate:num, lineorder.lo_shipmode:str\n",
      "Scan(lineorder AS lineorder)\n",
      "LIMIT(20.0 OFFSET 0)\n",
      "Project(lineorder.lo_orderkey:num AS lo_orderkey)\n",
      "[query] took 0.00352 sec\n",
      "\n",
      "[output]  [[1.0], [1.0], [1.0], [1.0], [2.0], [2.0], [2.0], [2.0], [2.0], [3.0], [4.0], [4.0], [5.0], [5.0], [5.0], [5.0], [5.0], [5.0], [5.0], [6.0]]\n",
      "\n",
      "=== DONE WITH ALL QUERIES ===\n",
      "\n"
     ]
    }
   ],
   "source": [
    "run_exp(db, experiment_two[0:1])"
   ]
  },
  {
   "cell_type": "code",
   "execution_count": null,
   "metadata": {},
   "outputs": [],
   "source": []
  }
 ],
 "metadata": {
  "kernelspec": {
   "display_name": "Python 3",
   "language": "python",
   "name": "python3"
  },
  "language_info": {
   "codemirror_mode": {
    "name": "ipython",
    "version": 3
   },
   "file_extension": ".py",
   "mimetype": "text/x-python",
   "name": "python",
   "nbconvert_exporter": "python",
   "pygments_lexer": "ipython3",
   "version": "3.8.5"
  }
 },
 "nbformat": 4,
 "nbformat_minor": 4
}
